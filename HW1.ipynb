{
  "cells": [
    {
      "cell_type": "markdown",
      "metadata": {
        "id": "view-in-github",
        "colab_type": "text"
      },
      "source": [
        "<a href=\"https://colab.research.google.com/github/dmswn1004/Python_Data-visualization/blob/main/HW1.ipynb\" target=\"_parent\"><img src=\"https://colab.research.google.com/assets/colab-badge.svg\" alt=\"Open In Colab\"/></a>"
      ]
    },
    {
      "cell_type": "markdown",
      "id": "3799c322",
      "metadata": {
        "id": "3799c322"
      },
      "source": [
        "## No. 1 (3점)\n",
        "### 다음은 '네이버 증권'의 시가총액 순서입니다.\n",
        "### 해당 페이지에서 종목명, 현재가, 등락률을 출력하는 크롤러를 작성하세요.\n",
        "##### ex.\n",
        "##### 삼성전자 - 현재가: 64,000, 등락률: +1.27%\n",
        "##### LG에너지솔루션 - 현재가: 588,000, 등락률: 0.00%\n",
        "##### SK하이닉스 - 현재가: 89,000, 등락률: +0.23%\n",
        "##### ...."
      ]
    },
    {
      "cell_type": "code",
      "execution_count": null,
      "id": "e3c7ae0e",
      "metadata": {
        "id": "e3c7ae0e",
        "outputId": "0c12e989-a326-45c9-d087-5189808173bf"
      },
      "outputs": [
        {
          "name": "stderr",
          "output_type": "stream",
          "text": [
            "/var/folders/v6/jj9_0f_56k1fq4rg_vfssl7c0000gn/T/ipykernel_14844/2965773363.py:5: DeprecationWarning: executable_path has been deprecated, please pass in a Service object\n",
            "  browser = webdriver.Chrome(\"./chromedriver\")\n"
          ]
        },
        {
          "name": "stdout",
          "output_type": "stream",
          "text": [
            "삼성전자  -  현재가 :  63,600 , 등락률 :  +0.79%\n",
            "LG에너지솔루션  -  현재가 :  575,000 , 등락률 :  -1.88%\n",
            "SK하이닉스  -  현재가 :  84,500 , 등락률 :  -3.10%\n",
            "삼성바이오로직스  -  현재가 :  788,000 , 등락률 :  +1.29%\n",
            "LG화학  -  현재가 :  722,000 , 등락률 :  +1.40%\n",
            "삼성SDI  -  현재가 :  726,000 , 등락률 :  -2.55%\n",
            "삼성전자우  -  현재가 :  53,700 , 등락률 :  -0.19%\n",
            "현대차  -  현재가 :  183,800 , 등락률 :  +0.11%\n",
            "NAVER  -  현재가 :  201,000 , 등락률 :  +1.41%\n",
            "기아  -  현재가 :  80,100 , 등락률 :  -1.35%\n",
            "POSCO홀딩스  -  현재가 :  367,000 , 등락률 :  -6.38%\n",
            "카카오  -  현재가 :  60,700 , 등락률 :  +0.83%\n",
            "셀트리온  -  현재가 :  159,000 , 등락률 :  +6.00%\n",
            "포스코퓨처엠  -  현재가 :  283,000 , 등락률 :  -1.91%\n",
            "현대모비스  -  현재가 :  215,000 , 등락률 :  +0.47%\n",
            "삼성물산  -  현재가 :  108,400 , 등락률 :  +0.18%\n",
            "KB금융  -  현재가 :  47,750 , 등락률 :  +0.95%\n",
            "LG전자  -  현재가 :  115,900 , 등락률 :  +1.85%\n",
            "신한지주  -  현재가 :  35,150 , 등락률 :  +1.74%\n",
            "SK이노베이션  -  현재가 :  181,200 , 등락률 :  +0.67%\n",
            "LG  -  현재가 :  84,600 , 등락률 :  +1.68%\n",
            "SK  -  현재가 :  174,500 , 등락률 :  +1.57%\n",
            "삼성생명  -  현재가 :  62,800 , 등락률 :  +0.64%\n",
            "하나금융지주  -  현재가 :  41,200 , 등락률 :  +1.48%\n",
            "한국전력  -  현재가 :  18,030 , 등락률 :  +0.78%\n",
            "KT&G  -  현재가 :  84,300 , 등락률 :  +0.84%\n",
            "카카오뱅크  -  현재가 :  24,200 , 등락률 :  +0.83%\n",
            "삼성전기  -  현재가 :  151,300 , 등락률 :  -2.58%\n",
            "두산에너빌리티  -  현재가 :  17,280 , 등락률 :  +1.29%\n",
            "고려아연  -  현재가 :  548,000 , 등락률 :  -1.26%\n",
            "SK텔레콤  -  현재가 :  47,700 , 등락률 :  +0.32%\n",
            "HMM  -  현재가 :  20,100 , 등락률 :  +0.50%\n",
            "삼성화재  -  현재가 :  207,000 , 등락률 :  0.00%\n",
            "LG생활건강  -  현재가 :  600,000 , 등락률 :  0.00%\n",
            "크래프톤  -  현재가 :  189,400 , 등락률 :  +3.61%\n",
            "S-Oil  -  현재가 :  82,500 , 등락률 :  +0.36%\n",
            "삼성에스디에스  -  현재가 :  117,600 , 등락률 :  +0.51%\n",
            "현대중공업  -  현재가 :  101,400 , 등락률 :  +1.00%\n",
            "한화솔루션  -  현재가 :  50,400 , 등락률 :  -0.20%\n",
            "대한항공  -  현재가 :  23,150 , 등락률 :  0.00%\n",
            "엔씨소프트  -  현재가 :  385,500 , 등락률 :  +4.05%\n",
            "우리금융지주  -  현재가 :  11,350 , 등락률 :  +0.71%\n",
            "아모레퍼시픽  -  현재가 :  137,700 , 등락률 :  +0.95%\n",
            "KT  -  현재가 :  30,700 , 등락률 :  +3.02%\n",
            "기업은행  -  현재가 :  9,970 , 등락률 :  +0.91%\n",
            "롯데케미칼  -  현재가 :  185,700 , 등락률 :  -0.21%\n",
            "하이브  -  현재가 :  190,300 , 등락률 :  +3.42%\n",
            "카카오페이  -  현재가 :  56,300 , 등락률 :  +1.08%\n",
            "메리츠금융지주  -  현재가 :  41,250 , 등락률 :  +2.36%\n",
            "LG이노텍  -  현재가 :  265,000 , 등락률 :  -2.39%\n"
          ]
        }
      ],
      "source": [
        "from selenium import webdriver\n",
        "import time\n",
        "from selenium.webdriver.common.by import By\n",
        "\n",
        "browser = webdriver.Chrome(\"./chromedriver\")\n",
        "url = 'https://finance.naver.com/sise/sise_market_sum.naver'\n",
        "browser.get(url)\n",
        "\n",
        "time.sleep(1)\n",
        "# print(browser.page_source) 페이지 소스 코드 보기\n",
        "\n",
        "stocks = browser.find_elements(By.CSS_SELECTOR, \"table.type_2 tr\")\n",
        "\n",
        "for i in stocks:\n",
        "    try:\n",
        "        name = i.find_element(By.CSS_SELECTOR, \"td:nth-child(2) > a\").text\n",
        "        price = i.find_element(By.CSS_SELECTOR, \".number\").text\n",
        "        change = i.find_element(By.CSS_SELECTOR, \"td:nth-child(5) > span\").text\n",
        "        print(name, \" - \", \"현재가 : \", price, \", 등락률 : \", change)\n",
        "    except:\n",
        "        continue\n",
        "        \n",
        "browser.quit() # 브라우저 종료"
      ]
    },
    {
      "cell_type": "markdown",
      "id": "cee81be0",
      "metadata": {
        "id": "cee81be0"
      },
      "source": [
        "### No1 설명\n",
        "종목명, 현재가, 등락률이 모두 table 태그안에 존재하는 하므로 table.type_2 태그의 각각의 행 (tr)을 stocks라는 변수에 할당했습니다.\n",
        "\n",
        "반복문을 통해 각각의 태그 안에 값을 추출했습니다.\n",
        "\n",
        "    - name (종목명) : 테이블에서 두 번째 td 요소의 자식으로 있는 a 요소를 선택하는 CSS 선택자를 이용해 값 추출\n",
        "    - price (현재가) : td 요소의 number 클래스를 선택해 값을 추출\n",
        "    - change (등락률) : 테이블에서 다섯 번째 td 요소의 자식으로 있는 span 요소를 선택하여 값 추출"
      ]
    },
    {
      "cell_type": "markdown",
      "id": "54266631",
      "metadata": {
        "id": "54266631"
      },
      "source": [
        "## No. 2 (2점)\n",
        "### 정왕동의 맛집을 최소 5개 이상 소개하는 크롤러를 작성하세요.\n",
        "이름과 설명을 5개 이상 간단히 출력하면 됩니다.\n",
        "\n",
        "예) 조개반장 - 클릭하면 음료1병 무료 쿠폰"
      ]
    },
    {
      "cell_type": "code",
      "execution_count": null,
      "id": "750da98c",
      "metadata": {
        "collapsed": true,
        "id": "750da98c",
        "outputId": "67d36bc5-e2fd-4808-8fca-7b1f5d609366"
      },
      "outputs": [
        {
          "name": "stderr",
          "output_type": "stream",
          "text": [
            "/var/folders/v6/jj9_0f_56k1fq4rg_vfssl7c0000gn/T/ipykernel_14844/3620595511.py:5: DeprecationWarning: executable_path has been deprecated, please pass in a Service object\n",
            "  browser = webdriver.Chrome(\"./chromedriver\")\n"
          ]
        },
        {
          "name": "stdout",
          "output_type": "stream",
          "text": [
            "스시미사키 - 배곧 신도시 합리적인 가격과 편안한 분위기의 스시 맛집\n",
            "스시주연 - 항상 겸손과 최선을 다하는 스시야가 되겠습니다.\n",
            "스시정 - 매일 새벽시장에서 직접 공수\n",
            "해오는 신선한 재료와 본연의 맛을\n",
            "느낄수 있는 스시오마카세\n",
            "주말(토.일)공휴일은\n",
            "디너구성 디너가격 입니다.\n",
            "주차시 4층과6층 2시간 무료주차\n",
            "그외층은 유료주차\n",
            "그점 양해 부탁 드립니다\n",
            "스시유우히 - 제철재료로 정성껏 만든 요리를 제공하는 오마카세\n",
            "우마카 안산고잔점 - 숙련된 직원이 직접 구워주는 프리미엄 와규 전문점\n",
            "에페리 - 와인과 어울리는 음식을 하는 아지트 같은 공간\n",
            "이태리백반 - 다양한 주류와 합리적인 가격의 코스요리를 즐기는 파인다이닝 레스토랑\n"
          ]
        }
      ],
      "source": [
        "from selenium import webdriver\n",
        "import time\n",
        "from selenium.webdriver.common.by import By\n",
        "\n",
        "browser = webdriver.Chrome(\"./chromedriver\")\n",
        "url = 'https://app.catchtable.co.kr/ct/search/list?location=%EA%B2%BD%EA%B8%B0%EB%8F%84%3E%EB%B6%80%EC%B2%9C-%EC%95%88%EC%82%B0-%EC%8B%9C%ED%9D%A5-%EA%B4%91%EB%AA%85&showTabs=true'\n",
        "browser.get(url)\n",
        "\n",
        "time.sleep(1)\n",
        "# print(browser.page_source) 페이지 소스 코드 보기\n",
        "\n",
        "food_links = browser.find_elements(By.CSS_SELECTOR, \"div.detail-header\")\n",
        "\n",
        "for i in food_links:\n",
        "    name = i.find_element(By.CSS_SELECTOR, \"h4.name\").text\n",
        "    desc = i.find_element(By.CSS_SELECTOR, \"p.excerpt\").text\n",
        "    print(name, \"-\", desc)\n",
        "\n",
        "browser.quit() # 브라우저 종료"
      ]
    },
    {
      "cell_type": "markdown",
      "id": "f3a1a14d",
      "metadata": {
        "id": "f3a1a14d"
      },
      "source": [
        "### No2 설명\n",
        "div 태그의 detail-header 클래스를 가진 부분에 맛집 이름, 설명, 평점, 리뷰 수 등의 정보가 포함되어 있기때문에 사용하였습니다.\n",
        "\n",
        "    - 식당 이름 (name) : h4 태그안에서 값 추출 가능 -> 클래스의 이름이 name\n",
        "    - 식당 설명 (desc) : p 태그안에서 값 추출 가능 -> 클래스의 이름이 excerpt"
      ]
    }
  ],
  "metadata": {
    "kernelspec": {
      "display_name": "Python 3 (ipykernel)",
      "language": "python",
      "name": "python3"
    },
    "language_info": {
      "codemirror_mode": {
        "name": "ipython",
        "version": 3
      },
      "file_extension": ".py",
      "mimetype": "text/x-python",
      "name": "python",
      "nbconvert_exporter": "python",
      "pygments_lexer": "ipython3",
      "version": "3.9.13"
    },
    "colab": {
      "provenance": [],
      "include_colab_link": true
    }
  },
  "nbformat": 4,
  "nbformat_minor": 5
}