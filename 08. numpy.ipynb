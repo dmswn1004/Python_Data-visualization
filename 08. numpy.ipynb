{
 "cells": [
  {
   "cell_type": "markdown",
   "id": "4cc28dc4",
   "metadata": {},
   "source": [
    "## NumPy 패키지 import"
   ]
  },
  {
   "cell_type": "code",
   "execution_count": 17,
   "id": "08d3f127",
   "metadata": {},
   "outputs": [],
   "source": [
    "import numpy as np"
   ]
  },
  {
   "cell_type": "markdown",
   "id": "96ea8504",
   "metadata": {},
   "source": [
    "## 배열 (array)"
   ]
  },
  {
   "cell_type": "code",
   "execution_count": 4,
   "id": "a805eb50",
   "metadata": {},
   "outputs": [
    {
     "name": "stdout",
     "output_type": "stream",
     "text": [
      "[0 1 2 3 4]\n"
     ]
    }
   ],
   "source": [
    "arr = np.array([0,1,2,3,4])\n",
    "print(arr)"
   ]
  },
  {
   "cell_type": "code",
   "execution_count": 6,
   "id": "1d54b69e",
   "metadata": {},
   "outputs": [
    {
     "name": "stdout",
     "output_type": "stream",
     "text": [
      "<class 'numpy.ndarray'>\n"
     ]
    }
   ],
   "source": [
    "print(type(arr))"
   ]
  },
  {
   "cell_type": "markdown",
   "id": "d789a7db",
   "metadata": {},
   "source": [
    "### 벡터화 연산"
   ]
  },
  {
   "cell_type": "code",
   "execution_count": 7,
   "id": "9fc75401",
   "metadata": {},
   "outputs": [
    {
     "data": {
      "text/plain": [
       "[2, 3, 4, 5, 6]"
      ]
     },
     "execution_count": 7,
     "metadata": {},
     "output_type": "execute_result"
    }
   ],
   "source": [
    "num = [0,1,2,3,4]\n",
    "result = [2 + i for i in num]\n",
    "result"
   ]
  },
  {
   "cell_type": "code",
   "execution_count": 9,
   "id": "f05d97e9",
   "metadata": {},
   "outputs": [
    {
     "data": {
      "text/plain": [
       "array([0, 2, 4, 6, 8])"
      ]
     },
     "execution_count": 9,
     "metadata": {},
     "output_type": "execute_result"
    }
   ],
   "source": [
    "arr*2"
   ]
  },
  {
   "cell_type": "code",
   "execution_count": 15,
   "id": "f43b32a6",
   "metadata": {},
   "outputs": [],
   "source": [
    "a = np.array([0,1,2])\n",
    "b = np.array([2,4,6])\n",
    "# 배열의 길이가 다르면 오류!"
   ]
  },
  {
   "cell_type": "code",
   "execution_count": 12,
   "id": "c1618942",
   "metadata": {},
   "outputs": [
    {
     "data": {
      "text/plain": [
       "array([ 6, 14, 22])"
      ]
     },
     "execution_count": 12,
     "metadata": {},
     "output_type": "execute_result"
    }
   ],
   "source": [
    "2*a + 3*b"
   ]
  },
  {
   "cell_type": "code",
   "execution_count": 13,
   "id": "8a71dc18",
   "metadata": {},
   "outputs": [
    {
     "data": {
      "text/plain": [
       "array([False, False,  True])"
      ]
     },
     "execution_count": 13,
     "metadata": {},
     "output_type": "execute_result"
    }
   ],
   "source": [
    "a == 2"
   ]
  },
  {
   "cell_type": "code",
   "execution_count": 14,
   "id": "f2a455e4",
   "metadata": {
    "scrolled": true
   },
   "outputs": [
    {
     "data": {
      "text/plain": [
       "array([False,  True, False])"
      ]
     },
     "execution_count": 14,
     "metadata": {},
     "output_type": "execute_result"
    }
   ],
   "source": [
    "(a == 1) & (b > 3)"
   ]
  },
  {
   "cell_type": "markdown",
   "id": "a882365b",
   "metadata": {},
   "source": [
    "### n차원 배열"
   ]
  },
  {
   "cell_type": "code",
   "execution_count": 19,
   "id": "4c2cd53a",
   "metadata": {},
   "outputs": [
    {
     "data": {
      "text/plain": [
       "array([[0, 1, 2],\n",
       "       [3, 4, 5]])"
      ]
     },
     "execution_count": 19,
     "metadata": {},
     "output_type": "execute_result"
    }
   ],
   "source": [
    "na = np.array([[0,1,2],[3,4,5]])\n",
    "na"
   ]
  },
  {
   "cell_type": "code",
   "execution_count": 20,
   "id": "a7d8ef96",
   "metadata": {},
   "outputs": [
    {
     "name": "stdout",
     "output_type": "stream",
     "text": [
      "2\n",
      "3\n"
     ]
    }
   ],
   "source": [
    "print(len(na))    # 행의 개수\n",
    "print(len(na[0])) # 열의 개수"
   ]
  },
  {
   "cell_type": "code",
   "execution_count": 21,
   "id": "a717b64d",
   "metadata": {
    "scrolled": true
   },
   "outputs": [
    {
     "name": "stdout",
     "output_type": "stream",
     "text": [
      "[[[ 1  2  3  4]\n",
      "  [ 5  6  7  8]\n",
      "  [ 9 10 11 12]]\n",
      "\n",
      " [[11 12 13 14]\n",
      "  [15 16 17 18]\n",
      "  [19 20 21 22]]]\n"
     ]
    }
   ],
   "source": [
    "# 3차원 (2 * 3 * 4 배열)\n",
    "nb = np.array([[[1,2,3,4],[5,6,7,8],[9,10,11,12]],\n",
    "               [[11,12,13,14],[15,16,17,18],[19,20,21,22]]])\n",
    "print(nb)"
   ]
  },
  {
   "cell_type": "code",
   "execution_count": 23,
   "id": "8261ebcf",
   "metadata": {},
   "outputs": [
    {
     "name": "stdout",
     "output_type": "stream",
     "text": [
      "3\n",
      "(2, 3, 4)\n"
     ]
    }
   ],
   "source": [
    "print(nb.ndim)  # 배열의 차원\n",
    "print(nb.shape) # 배열의 크기"
   ]
  },
  {
   "cell_type": "markdown",
   "id": "92437e7e",
   "metadata": {},
   "source": [
    "## Quiz"
   ]
  },
  {
   "cell_type": "code",
   "execution_count": 31,
   "id": "5e6dc234",
   "metadata": {},
   "outputs": [
    {
     "name": "stdout",
     "output_type": "stream",
     "text": [
      "2\n",
      "(2, 4)\n"
     ]
    }
   ],
   "source": [
    "arr1 = np.array([[10,20,30,40],[50,60,70,80]])\n",
    "print(arr1.ndim)\n",
    "print(arr1.shape)"
   ]
  },
  {
   "cell_type": "markdown",
   "id": "02ef3579",
   "metadata": {},
   "source": [
    "### 인덱싱"
   ]
  },
  {
   "cell_type": "code",
   "execution_count": 33,
   "id": "f42b7ad2",
   "metadata": {},
   "outputs": [
    {
     "name": "stdout",
     "output_type": "stream",
     "text": [
      "1\n",
      "5\n"
     ]
    }
   ],
   "source": [
    "a = np.array([[0,1,2],[3,4,5]])\n",
    "print(a[0,1])\n",
    "print(a[-1,-1])"
   ]
  },
  {
   "cell_type": "markdown",
   "id": "153bb9ed",
   "metadata": {},
   "source": [
    "### 슬라이싱"
   ]
  },
  {
   "cell_type": "code",
   "execution_count": 36,
   "id": "265b163e",
   "metadata": {},
   "outputs": [
    {
     "name": "stdout",
     "output_type": "stream",
     "text": [
      "[1 2]\n",
      "[ 6 10]\n"
     ]
    }
   ],
   "source": [
    "b = np.array([[0,1,2,3],[4,5,6,7],[8,9,10,11]])\n",
    "print(b[0,1:3])\n",
    "print(b[1:3,2])"
   ]
  },
  {
   "cell_type": "markdown",
   "id": "dd8f1421",
   "metadata": {},
   "source": [
    "## Quiz"
   ]
  },
  {
   "cell_type": "code",
   "execution_count": 37,
   "id": "1d1238e5",
   "metadata": {},
   "outputs": [],
   "source": [
    "m = np.array([[0,1,2,3,4],\n",
    "             [5,6,7,8,9],\n",
    "             [10,11,12,13,14]])"
   ]
  },
  {
   "cell_type": "markdown",
   "id": "159a0a5b",
   "metadata": {},
   "source": [
    "#### 1. 행렬에서 값 7을 인덱싱한다."
   ]
  },
  {
   "cell_type": "code",
   "execution_count": 39,
   "id": "2c8d53ce",
   "metadata": {},
   "outputs": [
    {
     "data": {
      "text/plain": [
       "7"
      ]
     },
     "execution_count": 39,
     "metadata": {},
     "output_type": "execute_result"
    }
   ],
   "source": [
    "m[1,2]"
   ]
  },
  {
   "cell_type": "markdown",
   "id": "826422f8",
   "metadata": {},
   "source": [
    "#### 2. 행렬에서 값 14을 인덱싱한다."
   ]
  },
  {
   "cell_type": "code",
   "execution_count": 42,
   "id": "4b286610",
   "metadata": {},
   "outputs": [
    {
     "data": {
      "text/plain": [
       "14"
      ]
     },
     "execution_count": 42,
     "metadata": {},
     "output_type": "execute_result"
    }
   ],
   "source": [
    "# m[2,4]\n",
    "m[-1,-1]"
   ]
  },
  {
   "cell_type": "markdown",
   "id": "143db521",
   "metadata": {},
   "source": [
    "#### 3. 행렬에서 배열 [6, 7]을 슬라이싱한다."
   ]
  },
  {
   "cell_type": "code",
   "execution_count": 51,
   "id": "65774696",
   "metadata": {},
   "outputs": [
    {
     "data": {
      "text/plain": [
       "array([6, 7])"
      ]
     },
     "execution_count": 51,
     "metadata": {},
     "output_type": "execute_result"
    }
   ],
   "source": [
    "m[1,1:3]"
   ]
  },
  {
   "cell_type": "markdown",
   "id": "0f65147c",
   "metadata": {},
   "source": [
    "#### 4. 행렬에서 배열 [7, 12]을 슬라이싱한다."
   ]
  },
  {
   "cell_type": "code",
   "execution_count": 49,
   "id": "bc2903d0",
   "metadata": {},
   "outputs": [
    {
     "data": {
      "text/plain": [
       "array([ 7, 12])"
      ]
     },
     "execution_count": 49,
     "metadata": {},
     "output_type": "execute_result"
    }
   ],
   "source": [
    "m[1:,2]"
   ]
  },
  {
   "cell_type": "markdown",
   "id": "7b279d41",
   "metadata": {},
   "source": [
    "#### 5. 행렬에서 배열 [[3, 4],[8,9]]을 슬라이싱한다."
   ]
  },
  {
   "cell_type": "code",
   "execution_count": 53,
   "id": "41441f29",
   "metadata": {},
   "outputs": [
    {
     "data": {
      "text/plain": [
       "array([[3, 4],\n",
       "       [8, 9]])"
      ]
     },
     "execution_count": 53,
     "metadata": {},
     "output_type": "execute_result"
    }
   ],
   "source": [
    "m[:2,3:]"
   ]
  },
  {
   "cell_type": "markdown",
   "id": "8e27f626",
   "metadata": {},
   "source": [
    "## 배열 인덱싱 - 불(Boolean) 배열과 정수 배열 방식 존재"
   ]
  },
  {
   "cell_type": "markdown",
   "id": "dc4b2384",
   "metadata": {},
   "source": [
    "#### 불 배열 인덱싱"
   ]
  },
  {
   "cell_type": "code",
   "execution_count": null,
   "id": "942131fc",
   "metadata": {},
   "outputs": [],
   "source": [
    "a = np.array([0,1,2,3,4,5])  # 원래 배열\n",
    "idx = np.array([True,False,True,False,True,False]) # 인덱스 배열\n",
    "print(a[idx])"
   ]
  },
  {
   "cell_type": "code",
   "execution_count": 57,
   "id": "d8dfc345",
   "metadata": {},
   "outputs": [
    {
     "data": {
      "text/plain": [
       "array([ True, False,  True, False,  True, False])"
      ]
     },
     "execution_count": 57,
     "metadata": {},
     "output_type": "execute_result"
    }
   ],
   "source": [
    "idx2 = a%2 == 0\n",
    "idx2"
   ]
  },
  {
   "cell_type": "code",
   "execution_count": 58,
   "id": "0fb12f10",
   "metadata": {},
   "outputs": [
    {
     "data": {
      "text/plain": [
       "array([0, 2, 4])"
      ]
     },
     "execution_count": 58,
     "metadata": {},
     "output_type": "execute_result"
    }
   ],
   "source": [
    "a[a%2 == 0]"
   ]
  },
  {
   "cell_type": "markdown",
   "id": "52d6dada",
   "metadata": {},
   "source": [
    "#### 정수 배열 인덱싱"
   ]
  },
  {
   "cell_type": "code",
   "execution_count": 60,
   "id": "541a326d",
   "metadata": {},
   "outputs": [
    {
     "name": "stdout",
     "output_type": "stream",
     "text": [
      "[11 33 55]\n"
     ]
    }
   ],
   "source": [
    "b = np.array([11,22,33,44,55,66])\n",
    "idx3 = np.array([0,2,4])\n",
    "print(b[idx]) # 원래 배열과 인덱스 배열의 크기가 달라도 관계없음"
   ]
  },
  {
   "cell_type": "markdown",
   "id": "ec723d7f",
   "metadata": {},
   "source": [
    "## Quiz"
   ]
  },
  {
   "cell_type": "code",
   "execution_count": 61,
   "id": "522f9c8b",
   "metadata": {},
   "outputs": [],
   "source": [
    "x = np.array([1,2,3,4,5,6,7,8,9,10,\n",
    "              11,12,13,14,15,16,17,18,19,20])"
   ]
  },
  {
   "cell_type": "markdown",
   "id": "4007af96",
   "metadata": {},
   "source": [
    "#### 1. 배열에서 3의 배수를 찾아라. "
   ]
  },
  {
   "cell_type": "code",
   "execution_count": 62,
   "id": "b4e2641d",
   "metadata": {},
   "outputs": [
    {
     "data": {
      "text/plain": [
       "array([ 3,  6,  9, 12, 15, 18])"
      ]
     },
     "execution_count": 62,
     "metadata": {},
     "output_type": "execute_result"
    }
   ],
   "source": [
    "idx4 = x % 3 == 0\n",
    "x[idx4]"
   ]
  },
  {
   "cell_type": "markdown",
   "id": "6946976f",
   "metadata": {},
   "source": [
    "#### 2. 배열에서 4로 나누면 1이 남는 수를 찾아라."
   ]
  },
  {
   "cell_type": "code",
   "execution_count": 63,
   "id": "d1d9f916",
   "metadata": {},
   "outputs": [
    {
     "data": {
      "text/plain": [
       "array([ 1,  5,  9, 13, 17])"
      ]
     },
     "execution_count": 63,
     "metadata": {},
     "output_type": "execute_result"
    }
   ],
   "source": [
    "idx5 = x % 4 == 1\n",
    "x[idx5]"
   ]
  },
  {
   "cell_type": "markdown",
   "id": "54cfc8cc",
   "metadata": {},
   "source": [
    "#### 3. 배열에서 3으로 나누면 나누어지고 4로 나누면 1이 남는 수를 찾아라."
   ]
  },
  {
   "cell_type": "code",
   "execution_count": 64,
   "id": "13b3cd8e",
   "metadata": {},
   "outputs": [
    {
     "data": {
      "text/plain": [
       "array([9])"
      ]
     },
     "execution_count": 64,
     "metadata": {},
     "output_type": "execute_result"
    }
   ],
   "source": [
    "idx6 = (x % 3 == 0) & (x % 4 == 1)\n",
    "x[idx6]"
   ]
  },
  {
   "cell_type": "markdown",
   "id": "705e0967",
   "metadata": {},
   "source": [
    "## 브로드캐스팅 (broadcasting)"
   ]
  },
  {
   "cell_type": "code",
   "execution_count": 67,
   "id": "fa06314d",
   "metadata": {},
   "outputs": [
    {
     "data": {
      "text/plain": [
       "array([1, 2, 3, 4, 5])"
      ]
     },
     "execution_count": 67,
     "metadata": {},
     "output_type": "execute_result"
    }
   ],
   "source": [
    "c = np.array([0,1,2,3,4])\n",
    "c + 1"
   ]
  },
  {
   "cell_type": "code",
   "execution_count": 79,
   "id": "4fa12f8f",
   "metadata": {},
   "outputs": [
    {
     "name": "stdout",
     "output_type": "stream",
     "text": [
      "[0 1 2 3 4]\n",
      "[1 1 1 1 1]\n",
      "[0 0 0 0 0]\n"
     ]
    }
   ],
   "source": [
    "x = np.arange(5)\n",
    "y = np.ones_like(x)  # x와 같은 모양의 배열을 만듬 (요소가 1)\n",
    "z = np.zeros_like(x) # x와 같은 모양의 배열을 만듬 (요소가 0)\n",
    "print(x)\n",
    "print(y) \n",
    "print(z)"
   ]
  },
  {
   "cell_type": "code",
   "execution_count": 81,
   "id": "c7b07e00",
   "metadata": {},
   "outputs": [
    {
     "name": "stdout",
     "output_type": "stream",
     "text": [
      "[[0]\n",
      " [1]\n",
      " [2]\n",
      " [3]\n",
      " [4]]\n",
      "[[ 0  1  2]\n",
      " [ 2  3  4]\n",
      " [ 4  5  6]\n",
      " [ 6  7  8]\n",
      " [ 8  9 10]]\n"
     ]
    }
   ],
   "source": [
    "x = np.array([[0,1,2],[1,2,3],[2,3,4],[3,4,5],[4,5,6]])\n",
    "y = np.array([0,1,2,3,4])\n",
    "yt = y.reshape(5,1)   # y 배열의 모양을 변경\n",
    "print(yt)\n",
    "print(x + yt)"
   ]
  },
  {
   "cell_type": "markdown",
   "id": "9a5bf848",
   "metadata": {},
   "source": [
    "## 차원 축소 연산"
   ]
  },
  {
   "cell_type": "code",
   "execution_count": 87,
   "id": "e0aa2307",
   "metadata": {},
   "outputs": [
    {
     "name": "stdout",
     "output_type": "stream",
     "text": [
      "10\n",
      "1\n",
      "4\n",
      "0\n",
      "1\n",
      "2.5\n",
      "2.5\n"
     ]
    }
   ],
   "source": [
    "x = np.array([1,4,2,3])\n",
    "\n",
    "print(np.sum(x))     # 합\n",
    "print(np.min(x))     # 최소값\n",
    "print(np.max(x))     # 최대값\n",
    "print(np.argmin(x))  # 최소값의 위치\n",
    "print(np.argmax(x))  # 최대값의 위치\n",
    "print(np.mean(x))    # 평균\n",
    "print(np.median(x))  # 중간값"
   ]
  },
  {
   "cell_type": "code",
   "execution_count": 90,
   "id": "ec0d43ea",
   "metadata": {},
   "outputs": [
    {
     "name": "stdout",
     "output_type": "stream",
     "text": [
      "False\n",
      "True\n"
     ]
    }
   ],
   "source": [
    "z = np.array([True,True,False])\n",
    "print(np.all(z))  # 모든 데이터가 True면 True\n",
    "print(np.any(z))  # 데이터가 하나라도 True면 True"
   ]
  },
  {
   "cell_type": "code",
   "execution_count": null,
   "id": "eb7f1d1d",
   "metadata": {},
   "outputs": [],
   "source": []
  }
 ],
 "metadata": {
  "kernelspec": {
   "display_name": "Python 3 (ipykernel)",
   "language": "python",
   "name": "python3"
  },
  "language_info": {
   "codemirror_mode": {
    "name": "ipython",
    "version": 3
   },
   "file_extension": ".py",
   "mimetype": "text/x-python",
   "name": "python",
   "nbconvert_exporter": "python",
   "pygments_lexer": "ipython3",
   "version": "3.9.13"
  }
 },
 "nbformat": 4,
 "nbformat_minor": 5
}
