{
 "cells": [
  {
   "cell_type": "markdown",
   "id": "2e5ba5c3",
   "metadata": {},
   "source": [
    "### !pip install 라이브러리_이름"
   ]
  },
  {
   "cell_type": "code",
   "execution_count": 5,
   "id": "3973df8c",
   "metadata": {
    "collapsed": true
   },
   "outputs": [
    {
     "name": "stdout",
     "output_type": "stream",
     "text": [
      "Requirement already satisfied: beautifulsoup4 in /Users/macpro/opt/anaconda3/lib/python3.9/site-packages (4.11.1)\r\n",
      "Requirement already satisfied: soupsieve>1.2 in /Users/macpro/opt/anaconda3/lib/python3.9/site-packages (from beautifulsoup4) (2.3.1)\r\n"
     ]
    }
   ],
   "source": [
    "!pip install beautifulsoup4"
   ]
  },
  {
   "cell_type": "code",
   "execution_count": 6,
   "id": "2e518da2",
   "metadata": {
    "collapsed": true
   },
   "outputs": [
    {
     "name": "stdout",
     "output_type": "stream",
     "text": [
      "Collecting selenium\n",
      "  Downloading selenium-4.8.2-py3-none-any.whl (6.9 MB)\n",
      "\u001b[2K     \u001b[90m━━━━━━━━━━━━━━━━━━━━━━━━━━━━━━━━━━━━━━━━\u001b[0m \u001b[32m6.9/6.9 MB\u001b[0m \u001b[31m2.7 MB/s\u001b[0m eta \u001b[36m0:00:00\u001b[0m00:01\u001b[0m00:01\u001b[0m\n",
      "\u001b[?25hCollecting trio~=0.17\n",
      "  Downloading trio-0.22.0-py3-none-any.whl (384 kB)\n",
      "\u001b[2K     \u001b[90m━━━━━━━━━━━━━━━━━━━━━━━━━━━━━━━━━━━━━━━\u001b[0m \u001b[32m384.9/384.9 kB\u001b[0m \u001b[31m1.6 MB/s\u001b[0m eta \u001b[36m0:00:00\u001b[0ma \u001b[36m0:00:01\u001b[0m\n",
      "\u001b[?25hCollecting trio-websocket~=0.9\n",
      "  Downloading trio_websocket-0.9.2-py3-none-any.whl (16 kB)\n",
      "Requirement already satisfied: urllib3[socks]~=1.26 in /Users/macpro/opt/anaconda3/lib/python3.9/site-packages (from selenium) (1.26.11)\n",
      "Requirement already satisfied: certifi>=2021.10.8 in /Users/macpro/opt/anaconda3/lib/python3.9/site-packages (from selenium) (2022.9.24)\n",
      "Collecting outcome\n",
      "  Downloading outcome-1.2.0-py2.py3-none-any.whl (9.7 kB)\n",
      "Requirement already satisfied: attrs>=19.2.0 in /Users/macpro/opt/anaconda3/lib/python3.9/site-packages (from trio~=0.17->selenium) (21.4.0)\n",
      "Collecting exceptiongroup>=1.0.0rc9\n",
      "  Downloading exceptiongroup-1.1.0-py3-none-any.whl (14 kB)\n",
      "Requirement already satisfied: sortedcontainers in /Users/macpro/opt/anaconda3/lib/python3.9/site-packages (from trio~=0.17->selenium) (2.4.0)\n",
      "Requirement already satisfied: sniffio in /Users/macpro/opt/anaconda3/lib/python3.9/site-packages (from trio~=0.17->selenium) (1.2.0)\n",
      "Requirement already satisfied: idna in /Users/macpro/opt/anaconda3/lib/python3.9/site-packages (from trio~=0.17->selenium) (3.3)\n",
      "Collecting async-generator>=1.9\n",
      "  Downloading async_generator-1.10-py3-none-any.whl (18 kB)\n",
      "Collecting wsproto>=0.14\n",
      "  Downloading wsproto-1.2.0-py3-none-any.whl (24 kB)\n",
      "Requirement already satisfied: PySocks!=1.5.7,<2.0,>=1.5.6 in /Users/macpro/opt/anaconda3/lib/python3.9/site-packages (from urllib3[socks]~=1.26->selenium) (1.7.1)\n",
      "Collecting h11<1,>=0.9.0\n",
      "  Downloading h11-0.14.0-py3-none-any.whl (58 kB)\n",
      "\u001b[2K     \u001b[90m━━━━━━━━━━━━━━━━━━━━━━━━━━━━━━━━━━━━━━━━\u001b[0m \u001b[32m58.3/58.3 kB\u001b[0m \u001b[31m3.3 MB/s\u001b[0m eta \u001b[36m0:00:00\u001b[0m\n",
      "\u001b[?25hInstalling collected packages: outcome, h11, exceptiongroup, async-generator, wsproto, trio, trio-websocket, selenium\n",
      "Successfully installed async-generator-1.10 exceptiongroup-1.1.0 h11-0.14.0 outcome-1.2.0 selenium-4.8.2 trio-0.22.0 trio-websocket-0.9.2 wsproto-1.2.0\n"
     ]
    }
   ],
   "source": [
    "!pip install selenium"
   ]
  },
  {
   "cell_type": "markdown",
   "id": "046800be",
   "metadata": {},
   "source": [
    "### jupyter notebook의 몇 가지 기능"
   ]
  },
  {
   "cell_type": "markdown",
   "id": "8b9d5a5e",
   "metadata": {},
   "source": [
    "#### 변수에 저장되어 있는 값을 즉시 확인 가능"
   ]
  },
  {
   "cell_type": "code",
   "execution_count": 12,
   "id": "7b9e0cf3",
   "metadata": {},
   "outputs": [
    {
     "data": {
      "text/plain": [
       "5"
      ]
     },
     "execution_count": 12,
     "metadata": {},
     "output_type": "execute_result"
    }
   ],
   "source": [
    "a = 5\n",
    "a "
   ]
  },
  {
   "cell_type": "code",
   "execution_count": 13,
   "id": "bcd14b84",
   "metadata": {},
   "outputs": [
    {
     "name": "stdout",
     "output_type": "stream",
     "text": [
      "5\n"
     ]
    }
   ],
   "source": [
    "print(a)"
   ]
  },
  {
   "cell_type": "markdown",
   "id": "73687b50",
   "metadata": {},
   "source": [
    "### 자료형"
   ]
  },
  {
   "cell_type": "markdown",
   "id": "2da33e26",
   "metadata": {},
   "source": [
    "#### 숫자형"
   ]
  },
  {
   "cell_type": "markdown",
   "id": "cfe65d77",
   "metadata": {},
   "source": [
    "#### 산술 연산자 : +, -, *, /, //, **, %"
   ]
  },
  {
   "cell_type": "markdown",
   "id": "43f57a6b",
   "metadata": {},
   "source": [
    "#### 데이터 타입 변환 → int(), float(), str(), round()"
   ]
  },
  {
   "cell_type": "markdown",
   "id": "23489b4d",
   "metadata": {},
   "source": [
    "#### 문자열  - \"\", ''"
   ]
  },
  {
   "cell_type": "markdown",
   "id": "231a310a",
   "metadata": {},
   "source": [
    "#### 문자열 슬라이싱"
   ]
  },
  {
   "cell_type": "code",
   "execution_count": 19,
   "id": "8802c55c",
   "metadata": {},
   "outputs": [
    {
     "data": {
      "text/plain": [
       "'pyt'"
      ]
     },
     "execution_count": 19,
     "metadata": {},
     "output_type": "execute_result"
    }
   ],
   "source": [
    "a = \"python\"\n",
    "b = a[0:3]\n",
    "b"
   ]
  },
  {
   "cell_type": "markdown",
   "id": "aa3e10a9",
   "metadata": {},
   "source": [
    "#### 문자열 포매팅 → 숫자(%d), 문자열(%s)"
   ]
  },
  {
   "cell_type": "markdown",
   "id": "165ec612",
   "metadata": {},
   "source": [
    "#### f 문자열 포매팅"
   ]
  },
  {
   "cell_type": "code",
   "execution_count": 21,
   "id": "e4c8a029",
   "metadata": {},
   "outputs": [
    {
     "data": {
      "text/plain": [
       "'이름: 홍길동'"
      ]
     },
     "execution_count": 21,
     "metadata": {},
     "output_type": "execute_result"
    }
   ],
   "source": [
    "name = '홍길동'\n",
    "f'이름: {name}'"
   ]
  },
  {
   "cell_type": "markdown",
   "id": "6033a0be",
   "metadata": {},
   "source": [
    "#### 문자열 관련 함수들(1) - strip, lstrip, rstrip : 공백 제거"
   ]
  },
  {
   "cell_type": "code",
   "execution_count": 24,
   "id": "5f21a8a8",
   "metadata": {},
   "outputs": [
    {
     "data": {
      "text/plain": [
       "'공백'"
      ]
     },
     "execution_count": 24,
     "metadata": {},
     "output_type": "execute_result"
    }
   ],
   "source": [
    "a = '    공백   '\n",
    "a.strip()"
   ]
  },
  {
   "cell_type": "markdown",
   "id": "b57a1c7e",
   "metadata": {},
   "source": [
    "#### 문자열 관련 함수들(2) - replace : 문자를 새로운 문자열로 변환"
   ]
  },
  {
   "cell_type": "code",
   "execution_count": 25,
   "id": "6f9a42c4",
   "metadata": {},
   "outputs": [
    {
     "data": {
      "text/plain": [
       "'I like pizze'"
      ]
     },
     "execution_count": 25,
     "metadata": {},
     "output_type": "execute_result"
    }
   ],
   "source": [
    "a = \"I like python\"\n",
    "a.replace(\"python\", \"pizze\")"
   ]
  },
  {
   "cell_type": "markdown",
   "id": "8e523ec0",
   "metadata": {},
   "source": [
    "#### 문자열 관련 함수들(3) - split : 문자열을 분리해 list로 저장"
   ]
  },
  {
   "cell_type": "code",
   "execution_count": 28,
   "id": "95f10f43",
   "metadata": {},
   "outputs": [
    {
     "data": {
      "text/plain": [
       "['I', 'like', 'python']"
      ]
     },
     "execution_count": 28,
     "metadata": {},
     "output_type": "execute_result"
    }
   ],
   "source": [
    "a = \"I like python\"\n",
    "a.split(\" \")"
   ]
  },
  {
   "cell_type": "markdown",
   "id": "cf1967ff",
   "metadata": {},
   "source": [
    "#### 문자열 관련 함수들(3) - upper, lower, join"
   ]
  },
  {
   "cell_type": "code",
   "execution_count": 29,
   "id": "bbf1cbbb",
   "metadata": {},
   "outputs": [
    {
     "data": {
      "text/plain": [
       "'a,b'"
      ]
     },
     "execution_count": 29,
     "metadata": {},
     "output_type": "execute_result"
    }
   ],
   "source": [
    "\",\".join(\"ab\")"
   ]
  },
  {
   "cell_type": "code",
   "execution_count": 30,
   "id": "c5843dcb",
   "metadata": {},
   "outputs": [
    {
     "data": {
      "text/plain": [
       "'HI'"
      ]
     },
     "execution_count": 30,
     "metadata": {},
     "output_type": "execute_result"
    }
   ],
   "source": [
    "a = \"hi\"\n",
    "a.upper()"
   ]
  },
  {
   "cell_type": "code",
   "execution_count": 31,
   "id": "a6fa5bef",
   "metadata": {},
   "outputs": [
    {
     "data": {
      "text/plain": [
       "'hi'"
      ]
     },
     "execution_count": 31,
     "metadata": {},
     "output_type": "execute_result"
    }
   ],
   "source": [
    "a = \"HI\"\n",
    "a.lower()"
   ]
  },
  {
   "cell_type": "markdown",
   "id": "19e4a515",
   "metadata": {},
   "source": [
    "### Quiz "
   ]
  },
  {
   "cell_type": "code",
   "execution_count": 39,
   "id": "29b91bcc",
   "metadata": {},
   "outputs": [
    {
     "name": "stdout",
     "output_type": "stream",
     "text": [
      "010 1234 5678\n",
      "01012345678\n",
      "['010', '1234', '5678']\n"
     ]
    }
   ],
   "source": [
    "a = '010-1234-5678'\n",
    "print(a.replace('-',' '))\n",
    "print(a.replace('-',''))\n",
    "print(a.split('-'))"
   ]
  },
  {
   "cell_type": "markdown",
   "id": "4aec6b50",
   "metadata": {},
   "source": [
    "#### list (어떠한 자료형도 포함 가능)"
   ]
  },
  {
   "cell_type": "markdown",
   "id": "4e873078",
   "metadata": {},
   "source": [
    "##### 리스트 인덱싱 - 문자열과 유사, 중첩 리스트도 인덱싱 가능"
   ]
  },
  {
   "cell_type": "code",
   "execution_count": 45,
   "id": "bf092c3a",
   "metadata": {},
   "outputs": [
    {
     "name": "stdout",
     "output_type": "stream",
     "text": [
      "<class 'list'>\n",
      "<class 'int'>\n",
      "<class 'str'>\n",
      "<class 'list'>\n"
     ]
    }
   ],
   "source": [
    "a = [1, 2, 'd', ['a', 'b', 'c']]\n",
    "print(type(a))\n",
    "print(type(a[0])) # 1\n",
    "print(type(a[2])) # d\n",
    "print(type(a[3])) # ['a', 'b', 'c']"
   ]
  },
  {
   "cell_type": "markdown",
   "id": "29a9c415",
   "metadata": {},
   "source": [
    "#### list - 연산(+, -), len()"
   ]
  },
  {
   "cell_type": "markdown",
   "id": "3bdd215e",
   "metadata": {},
   "source": [
    "#### list 정렬(sort), 뒤집기(reverse)"
   ]
  },
  {
   "cell_type": "code",
   "execution_count": 61,
   "id": "50d80d39",
   "metadata": {},
   "outputs": [
    {
     "data": {
      "text/plain": [
       "[6, 4, 3, 1]"
      ]
     },
     "execution_count": 61,
     "metadata": {},
     "output_type": "execute_result"
    }
   ],
   "source": [
    "a = [1, 6, 3, 4]\n",
    "a.sort() # 반환값 없음(None)\n",
    "a.sort(reverse = True)\n",
    "a"
   ]
  },
  {
   "cell_type": "code",
   "execution_count": 59,
   "id": "1fa684c3",
   "metadata": {},
   "outputs": [
    {
     "data": {
      "text/plain": [
       "[6, 4, 3, 1]"
      ]
     },
     "execution_count": 59,
     "metadata": {},
     "output_type": "execute_result"
    }
   ],
   "source": [
    "a.reverse() # 반환값 없음(None)\n",
    "a"
   ]
  },
  {
   "cell_type": "markdown",
   "id": "0b376cf6",
   "metadata": {},
   "source": [
    "#### list 요소 추가 - 추가(append), 삽입(insert), 확장(extend)"
   ]
  },
  {
   "cell_type": "code",
   "execution_count": 63,
   "id": "00b2b14f",
   "metadata": {},
   "outputs": [
    {
     "data": {
      "text/plain": [
       "[1, 2, 3, [4, 5]]"
      ]
     },
     "execution_count": 63,
     "metadata": {},
     "output_type": "execute_result"
    }
   ],
   "source": [
    "a = [1, 2, 3]\n",
    "a.append([4, 5])\n",
    "a"
   ]
  },
  {
   "cell_type": "code",
   "execution_count": 64,
   "id": "77414afb",
   "metadata": {},
   "outputs": [
    {
     "data": {
      "text/plain": [
       "[1, 2, 3, 4, 5]"
      ]
     },
     "execution_count": 64,
     "metadata": {},
     "output_type": "execute_result"
    }
   ],
   "source": [
    "b = [1, 2, 3]\n",
    "b.extend([4, 5])\n",
    "b"
   ]
  },
  {
   "cell_type": "markdown",
   "id": "af8e4c86",
   "metadata": {},
   "source": [
    "#### list 요소 삭제 - del(), remove(), pop()"
   ]
  },
  {
   "cell_type": "code",
   "execution_count": 66,
   "id": "2e90aa49",
   "metadata": {},
   "outputs": [
    {
     "data": {
      "text/plain": [
       "2"
      ]
     },
     "execution_count": 66,
     "metadata": {},
     "output_type": "execute_result"
    }
   ],
   "source": [
    "a = [1, 2, 3]\n",
    "a.pop(1)"
   ]
  },
  {
   "cell_type": "markdown",
   "id": "a8301797",
   "metadata": {},
   "source": [
    "#### 튜플(tuple) : 수정이 불가능 / 인덱싱, 슬라이싱 모두 가능"
   ]
  },
  {
   "cell_type": "code",
   "execution_count": 74,
   "id": "20f0c0e9",
   "metadata": {},
   "outputs": [
    {
     "name": "stdout",
     "output_type": "stream",
     "text": [
      "<class 'int'>\n",
      "<class 'tuple'>\n"
     ]
    }
   ],
   "source": [
    "t1 = (1)\n",
    "t2 = (1,)\n",
    "print(type(t1))\n",
    "print(type(t2))"
   ]
  },
  {
   "cell_type": "markdown",
   "id": "b6d403fc",
   "metadata": {},
   "source": [
    "#### 집합 (set) : 순서가 없고, 중복을 허용하지 않는 자료형 -> {}, set() / 인덱싱 불가능"
   ]
  },
  {
   "cell_type": "code",
   "execution_count": 3,
   "id": "fe0e04fb",
   "metadata": {},
   "outputs": [
    {
     "data": {
      "text/plain": [
       "{1, 2, 3, 4}"
      ]
     },
     "execution_count": 3,
     "metadata": {},
     "output_type": "execute_result"
    }
   ],
   "source": [
    "a = {1,2,3,4}\n",
    "set(a)"
   ]
  },
  {
   "cell_type": "markdown",
   "id": "bf3e5c0d",
   "metadata": {},
   "source": [
    "###### 집합 연산 가능 (교집합, 합집합, 차집합)"
   ]
  },
  {
   "cell_type": "markdown",
   "id": "54dc6cd2",
   "metadata": {},
   "source": [
    "#### 딕셔너리(dictionary) : key : value 대응 관계"
   ]
  },
  {
   "cell_type": "markdown",
   "id": "75265826",
   "metadata": {},
   "source": [
    "#### bool : True, False"
   ]
  },
  {
   "cell_type": "code",
   "execution_count": 11,
   "id": "18ac836b",
   "metadata": {},
   "outputs": [
    {
     "name": "stdout",
     "output_type": "stream",
     "text": [
      "True\n"
     ]
    },
    {
     "data": {
      "text/plain": [
       "bool"
      ]
     },
     "execution_count": 11,
     "metadata": {},
     "output_type": "execute_result"
    }
   ],
   "source": [
    "print(1 == 1)\n",
    "type(1 == 1)"
   ]
  },
  {
   "cell_type": "code",
   "execution_count": 15,
   "id": "7ae84b3f",
   "metadata": {},
   "outputs": [
    {
     "data": {
      "text/plain": [
       "False"
      ]
     },
     "execution_count": 15,
     "metadata": {},
     "output_type": "execute_result"
    }
   ],
   "source": [
    "bool('')"
   ]
  },
  {
   "cell_type": "code",
   "execution_count": 16,
   "id": "b1c7fb95",
   "metadata": {},
   "outputs": [
    {
     "data": {
      "text/plain": [
       "True"
      ]
     },
     "execution_count": 16,
     "metadata": {},
     "output_type": "execute_result"
    }
   ],
   "source": [
    "bool('python')"
   ]
  },
  {
   "cell_type": "code",
   "execution_count": 18,
   "id": "82ddd229",
   "metadata": {},
   "outputs": [
    {
     "data": {
      "text/plain": [
       "False"
      ]
     },
     "execution_count": 18,
     "metadata": {},
     "output_type": "execute_result"
    }
   ],
   "source": [
    "bool(0)"
   ]
  },
  {
   "cell_type": "code",
   "execution_count": 17,
   "id": "8a3e95aa",
   "metadata": {},
   "outputs": [
    {
     "data": {
      "text/plain": [
       "False"
      ]
     },
     "execution_count": 17,
     "metadata": {},
     "output_type": "execute_result"
    }
   ],
   "source": [
    "bool(None)"
   ]
  },
  {
   "cell_type": "markdown",
   "id": "b859f378",
   "metadata": {},
   "source": [
    "### NumPy"
   ]
  },
  {
   "cell_type": "code",
   "execution_count": 20,
   "id": "9299924a",
   "metadata": {},
   "outputs": [
    {
     "name": "stdout",
     "output_type": "stream",
     "text": [
      "[0 1 2 3 4]\n",
      "<class 'numpy.ndarray'>\n"
     ]
    }
   ],
   "source": [
    "import numpy as np\n",
    "ar = np.array([0,1,2,3,4])\n",
    "print(ar)\n",
    "print(type(ar))"
   ]
  },
  {
   "cell_type": "markdown",
   "id": "fbe45630",
   "metadata": {},
   "source": [
    "### 제어문 : if, else, elif / and, or, not / in, not in / break / continue / for"
   ]
  },
  {
   "cell_type": "markdown",
   "id": "70994f94",
   "metadata": {},
   "source": [
    "##### break 예시"
   ]
  },
  {
   "cell_type": "code",
   "execution_count": 21,
   "id": "f292f8c9",
   "metadata": {},
   "outputs": [
    {
     "name": "stdout",
     "output_type": "stream",
     "text": [
      "나무를 1번 찍었습니다.\n",
      "나무를 2번 찍었습니다.\n",
      "나무를 3번 찍었습니다.\n",
      "나무를 4번 찍었습니다.\n",
      "나무를 5번 찍었습니다.\n",
      "나무를 6번 찍었습니다.\n",
      "나무를 7번 찍었습니다.\n",
      "나무를 8번 찍었습니다.\n",
      "나무를 9번 찍었습니다.\n",
      "나무를 10번 찍었습니다.\n",
      "나무 넘어갑니다\n"
     ]
    }
   ],
   "source": [
    "treeHit = 0\n",
    "while 1:\n",
    "    treeHit += 1\n",
    "    print('나무를 %d번 찍었습니다.' %treeHit)\n",
    "    if treeHit == 10:\n",
    "        print('나무 넘어갑니다')\n",
    "        break"
   ]
  },
  {
   "cell_type": "code",
   "execution_count": null,
   "id": "3e0687ee",
   "metadata": {},
   "outputs": [],
   "source": [
    "treeHit = 0\n",
    "while 1:\n",
    "    treeHit += 1\n",
    "    print('나무를 %d번 찍었습니다.' %treeHit)\n",
    "    if treeHit == 10:\n",
    "        print('나무 넘어갑니다')\n",
    "        break"
   ]
  },
  {
   "cell_type": "markdown",
   "id": "9d7cf31a",
   "metadata": {},
   "source": [
    "##### range 함수"
   ]
  },
  {
   "cell_type": "code",
   "execution_count": 25,
   "id": "7f8a4488",
   "metadata": {
    "collapsed": true
   },
   "outputs": [
    {
     "name": "stdout",
     "output_type": "stream",
     "text": [
      "1\n",
      "2\n",
      "3\n",
      "4\n"
     ]
    }
   ],
   "source": [
    "for i in range(1,5):\n",
    "    print(i)"
   ]
  },
  {
   "cell_type": "markdown",
   "id": "7d97db31",
   "metadata": {},
   "source": [
    "###### append / 리스트 내포 (list comprehension)"
   ]
  },
  {
   "cell_type": "code",
   "execution_count": 29,
   "id": "05d5bc18",
   "metadata": {},
   "outputs": [
    {
     "name": "stdout",
     "output_type": "stream",
     "text": [
      "[3, 6, 9, 12]\n"
     ]
    }
   ],
   "source": [
    "a = [1,2,3,4]\n",
    "result = []\n",
    "for num in a:\n",
    "    result.append(num*3)\n",
    "    \n",
    "print(result)"
   ]
  },
  {
   "cell_type": "code",
   "execution_count": 33,
   "id": "bde6c9b4",
   "metadata": {},
   "outputs": [
    {
     "name": "stdout",
     "output_type": "stream",
     "text": [
      "[3, 6, 9, 12]\n"
     ]
    }
   ],
   "source": [
    "result = [num * 3 for num in a]\n",
    "print(result)"
   ]
  },
  {
   "cell_type": "markdown",
   "id": "934ba890",
   "metadata": {},
   "source": [
    "## Quiz"
   ]
  },
  {
   "cell_type": "markdown",
   "id": "9792bf0f",
   "metadata": {},
   "source": [
    "1-100까지의 숫자 중 짝수의 합, 홀수의 합을 각각 구하세요."
   ]
  },
  {
   "cell_type": "code",
   "execution_count": 37,
   "id": "b9d83044",
   "metadata": {},
   "outputs": [
    {
     "name": "stdout",
     "output_type": "stream",
     "text": [
      "2500 2550\n"
     ]
    }
   ],
   "source": [
    "odd = 0\n",
    "even = 0\n",
    "for i in range(1,101):\n",
    "    if i % 2:\n",
    "        odd += i\n",
    "    else:\n",
    "        even += i\n",
    "print(odd, even)"
   ]
  },
  {
   "cell_type": "code",
   "execution_count": 45,
   "id": "02c1227e",
   "metadata": {},
   "outputs": [
    {
     "name": "stdout",
     "output_type": "stream",
     "text": [
      "2500 2550\n"
     ]
    }
   ],
   "source": [
    "odd = sum([i for i in range(1,101) if i % 2 != 0])\n",
    "even = sum([i for i in range(1,101) if i % 2 == 0])\n",
    "print(odd, even)"
   ]
  },
  {
   "cell_type": "code",
   "execution_count": 46,
   "id": "c3040b65",
   "metadata": {},
   "outputs": [
    {
     "name": "stdout",
     "output_type": "stream",
     "text": [
      "2500 2550\n"
     ]
    }
   ],
   "source": [
    "num = 1\n",
    "odd = 0\n",
    "even = 0\n",
    "while (num < 101):\n",
    "    if num % 2 == 0:\n",
    "        even += num\n",
    "    else:\n",
    "        odd += num\n",
    "    num += 1\n",
    "print(odd, even)"
   ]
  },
  {
   "cell_type": "markdown",
   "id": "8f785e54",
   "metadata": {},
   "source": [
    "### 함수"
   ]
  },
  {
   "cell_type": "code",
   "execution_count": 4,
   "id": "039980a6",
   "metadata": {},
   "outputs": [
    {
     "data": {
      "text/plain": [
       "2"
      ]
     },
     "execution_count": 4,
     "metadata": {},
     "output_type": "execute_result"
    }
   ],
   "source": [
    "def mul(a, b):\n",
    "    return a * b\n",
    "mul(1,2)"
   ]
  },
  {
   "cell_type": "code",
   "execution_count": 8,
   "id": "6817f1cf",
   "metadata": {},
   "outputs": [
    {
     "data": {
      "text/plain": [
       "360"
      ]
     },
     "execution_count": 8,
     "metadata": {},
     "output_type": "execute_result"
    }
   ],
   "source": [
    "# 여러 개의 매개변수\n",
    "def mul(*args):\n",
    "    result = 1\n",
    "    for i in args:\n",
    "        result *= i\n",
    "    return result\n",
    "mul(1,3,4,5,6)"
   ]
  },
  {
   "cell_type": "code",
   "execution_count": 11,
   "id": "63df494a",
   "metadata": {},
   "outputs": [
    {
     "data": {
      "text/plain": [
       "8"
      ]
     },
     "execution_count": 11,
     "metadata": {},
     "output_type": "execute_result"
    }
   ],
   "source": [
    "# lambda\n",
    "add = lambda a, b: a + b\n",
    "add(3, 5)"
   ]
  },
  {
   "cell_type": "code",
   "execution_count": 20,
   "id": "01b7ba42",
   "metadata": {},
   "outputs": [
    {
     "name": "stdout",
     "output_type": "stream",
     "text": [
      "go\n",
      "choo\n",
      "choo\n"
     ]
    }
   ],
   "source": [
    "class Snack:\n",
    "    def __init__(self, recipe):\n",
    "        self.recipe = recipe\n",
    "    def sound(self):\n",
    "        return 'nyam'\n",
    "    def ingredient(self):\n",
    "        return self.recipe\n",
    "    \n",
    "goraebob = Snack('go')\n",
    "print(goraebob.ingredient())\n",
    "\n",
    "binch = Snack('choo')\n",
    "print(binch.recipe)\n",
    "print(binch.ingredient())"
   ]
  },
  {
   "cell_type": "markdown",
   "id": "7fdc612f",
   "metadata": {},
   "source": [
    "#### 예외 처리 : try, except 문"
   ]
  },
  {
   "cell_type": "code",
   "execution_count": 21,
   "id": "fb174973",
   "metadata": {},
   "outputs": [
    {
     "name": "stdout",
     "output_type": "stream",
     "text": [
      "zero\n"
     ]
    }
   ],
   "source": [
    "try:\n",
    "    4/0\n",
    "except:\n",
    "    print('zero')"
   ]
  }
 ],
 "metadata": {
  "kernelspec": {
   "display_name": "Python 3 (ipykernel)",
   "language": "python",
   "name": "python3"
  },
  "language_info": {
   "codemirror_mode": {
    "name": "ipython",
    "version": 3
   },
   "file_extension": ".py",
   "mimetype": "text/x-python",
   "name": "python",
   "nbconvert_exporter": "python",
   "pygments_lexer": "ipython3",
   "version": "3.9.13"
  }
 },
 "nbformat": 4,
 "nbformat_minor": 5
}
