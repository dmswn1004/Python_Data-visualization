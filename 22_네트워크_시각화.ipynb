{
  "nbformat": 4,
  "nbformat_minor": 0,
  "metadata": {
    "colab": {
      "provenance": [],
      "authorship_tag": "ABX9TyNJFMg5Ou3IbMZVhpFI8hpC",
      "include_colab_link": true
    },
    "kernelspec": {
      "name": "python3",
      "display_name": "Python 3"
    },
    "language_info": {
      "name": "python"
    }
  },
  "cells": [
    {
      "cell_type": "markdown",
      "metadata": {
        "id": "view-in-github",
        "colab_type": "text"
      },
      "source": [
        "<a href=\"https://colab.research.google.com/github/dmswn1004/Python_Data-visualization/blob/main/22_%EB%84%A4%ED%8A%B8%EC%9B%8C%ED%81%AC_%EC%8B%9C%EA%B0%81%ED%99%94.ipynb\" target=\"_parent\"><img src=\"https://colab.research.google.com/assets/colab-badge.svg\" alt=\"Open In Colab\"/></a>"
      ]
    },
    {
      "cell_type": "code",
      "execution_count": 1,
      "metadata": {
        "colab": {
          "base_uri": "https://localhost:8080/"
        },
        "id": "BO5Eqtp9ylk3",
        "outputId": "db728281-9a65-4130-8581-1270e38db055"
      },
      "outputs": [
        {
          "output_type": "stream",
          "name": "stdout",
          "text": [
            "Looking in indexes: https://pypi.org/simple, https://us-python.pkg.dev/colab-wheels/public/simple/\n",
            "Requirement already satisfied: networkx in /usr/local/lib/python3.10/dist-packages (3.1)\n"
          ]
        }
      ],
      "source": [
        "!pip install -U networkx"
      ]
    },
    {
      "cell_type": "code",
      "source": [
        "import networkx as nx\n",
        "import matplotlib.pyplot as plt"
      ],
      "metadata": {
        "id": "uMr6ETG1z4zU"
      },
      "execution_count": 2,
      "outputs": []
    },
    {
      "cell_type": "code",
      "source": [
        "g = nx.Graph()"
      ],
      "metadata": {
        "id": "lU0AJrOn0AC0"
      },
      "execution_count": 3,
      "outputs": []
    },
    {
      "cell_type": "code",
      "source": [
        "type(g)"
      ],
      "metadata": {
        "colab": {
          "base_uri": "https://localhost:8080/"
        },
        "id": "K9lPQ3rZ0DD8",
        "outputId": "b4210bf6-9c22-4c0a-e492-66e28e6d2080"
      },
      "execution_count": 4,
      "outputs": [
        {
          "output_type": "execute_result",
          "data": {
            "text/plain": [
              "networkx.classes.graph.Graph"
            ]
          },
          "metadata": {},
          "execution_count": 4
        }
      ]
    },
    {
      "cell_type": "code",
      "source": [
        "g.add_nodes_from([1,2,3,4,5]) # 리스트로 노드 추가"
      ],
      "metadata": {
        "id": "kQXFI-U70HRt"
      },
      "execution_count": 7,
      "outputs": []
    },
    {
      "cell_type": "code",
      "source": [
        "g.add_node(6) # 하나씩 노드 추가"
      ],
      "metadata": {
        "id": "8YtjIPjS0MAA"
      },
      "execution_count": 8,
      "outputs": []
    },
    {
      "cell_type": "code",
      "source": [
        "g.add_edges_from([(1,3),(2,4),(2,5),(2,6),(3,4,),(4,6)]) # 리스트로 링크 추가"
      ],
      "metadata": {
        "id": "7QiymO5c0RrY"
      },
      "execution_count": 9,
      "outputs": []
    },
    {
      "cell_type": "code",
      "source": [
        "g.add_edge(5,6) # 하나씩 링크 추가"
      ],
      "metadata": {
        "id": "vnBveOov0dEs"
      },
      "execution_count": 6,
      "outputs": []
    },
    {
      "cell_type": "code",
      "source": [
        "g.nodes()"
      ],
      "metadata": {
        "colab": {
          "base_uri": "https://localhost:8080/"
        },
        "id": "7WtlgCDf0pMm",
        "outputId": "2c6b9a68-ac65-44bb-e021-6f05486dbece"
      },
      "execution_count": 10,
      "outputs": [
        {
          "output_type": "execute_result",
          "data": {
            "text/plain": [
              "NodeView((1, 3, 2, 4, 5, 6))"
            ]
          },
          "metadata": {},
          "execution_count": 10
        }
      ]
    },
    {
      "cell_type": "code",
      "source": [
        "g.edges()"
      ],
      "metadata": {
        "colab": {
          "base_uri": "https://localhost:8080/"
        },
        "id": "w3KEx3pL0w5P",
        "outputId": "289b637e-84b5-4978-9072-24d5e939fdd5"
      },
      "execution_count": 11,
      "outputs": [
        {
          "output_type": "execute_result",
          "data": {
            "text/plain": [
              "EdgeView([(1, 3), (3, 4), (2, 4), (2, 5), (2, 6), (4, 6), (5, 6)])"
            ]
          },
          "metadata": {},
          "execution_count": 11
        }
      ]
    },
    {
      "cell_type": "code",
      "source": [
        "g.number_of_nodes()"
      ],
      "metadata": {
        "colab": {
          "base_uri": "https://localhost:8080/"
        },
        "id": "_97pRGvM0z8q",
        "outputId": "b50d932a-e551-47f6-d50c-354427a89618"
      },
      "execution_count": 12,
      "outputs": [
        {
          "output_type": "execute_result",
          "data": {
            "text/plain": [
              "6"
            ]
          },
          "metadata": {},
          "execution_count": 12
        }
      ]
    },
    {
      "cell_type": "code",
      "source": [
        "g.number_of_edges()"
      ],
      "metadata": {
        "colab": {
          "base_uri": "https://localhost:8080/"
        },
        "id": "7saDWiwT024M",
        "outputId": "5acc1322-f83d-44fa-ca96-7b82221d6a97"
      },
      "execution_count": 13,
      "outputs": [
        {
          "output_type": "execute_result",
          "data": {
            "text/plain": [
              "7"
            ]
          },
          "metadata": {},
          "execution_count": 13
        }
      ]
    },
    {
      "cell_type": "code",
      "source": [
        "nx.draw_networkx(g)\n",
        "plt.axis('off')\n",
        "plt.show()"
      ],
      "metadata": {
        "colab": {
          "base_uri": "https://localhost:8080/",
          "height": 406
        },
        "id": "L5nsSVKs05hp",
        "outputId": "e07a31d2-9a1a-48ef-c3ee-1cbba5b1f4fe"
      },
      "execution_count": 14,
      "outputs": [
        {
          "output_type": "display_data",
          "data": {
            "text/plain": [
              "<Figure size 640x480 with 1 Axes>"
            ],
            "image/png": "[encoded data removed]"
          },
          "metadata": {}
        }
      ]
    },
    {
      "cell_type": "code",
      "source": [
        "g.nodes[1]['gender'] = 'male'\n",
        "g.nodes[2]['gender'] = 'female'\n",
        "g.nodes[3]['gender'] = 'male'\n",
        "g.nodes[4]['gender'] = 'female'\n",
        "g.nodes[5]['gender'] = 'male'\n",
        "g.nodes[6]['gender'] = 'male'\n",
        "\n",
        "nx.get_node_attributes(g, 'gender')"
      ],
      "metadata": {
        "colab": {
          "base_uri": "https://localhost:8080/"
        },
        "id": "B_VA25Mr55EM",
        "outputId": "dd0fa3d9-2dc2-4ed0-e9df-5299eb7de8d9"
      },
      "execution_count": 15,
      "outputs": [
        {
          "output_type": "execute_result",
          "data": {
            "text/plain": [
              "{1: 'male', 3: 'male', 2: 'female', 4: 'female', 5: 'male', 6: 'male'}"
            ]
          },
          "metadata": {},
          "execution_count": 15
        }
      ]
    },
    {
      "cell_type": "code",
      "source": [
        "g[1][3]['weigth'] = 3\n",
        "g[2][4]['weigth'] = 1\n",
        "g[2][5]['weigth'] = 4\n",
        "g[2][6]['weigth'] = 3\n",
        "g[3][4]['weigth'] = 2\n",
        "g[4][6]['weigth'] = 3\n",
        "g.edges[5,6]['weight'] = 4\n",
        "\n",
        "nx.get_edge_attributes(g, 'weigth')"
      ],
      "metadata": {
        "colab": {
          "base_uri": "https://localhost:8080/"
        },
        "id": "blHp2LXU7X7h",
        "outputId": "57469742-aa8d-406f-f5bf-fa5d5d89707a"
      },
      "execution_count": 19,
      "outputs": [
        {
          "output_type": "execute_result",
          "data": {
            "text/plain": [
              "{(1, 3): 3, (3, 4): 2, (2, 4): 1, (2, 5): 4, (2, 6): 3, (4, 6): 3}"
            ]
          },
          "metadata": {},
          "execution_count": 19
        }
      ]
    },
    {
      "cell_type": "code",
      "source": [
        "g.nodes(data=True)"
      ],
      "metadata": {
        "colab": {
          "base_uri": "https://localhost:8080/"
        },
        "id": "9Iar9Uok6PYg",
        "outputId": "37c3f875-f8ae-4411-e10f-c2ca1677710b"
      },
      "execution_count": 20,
      "outputs": [
        {
          "output_type": "execute_result",
          "data": {
            "text/plain": [
              "NodeDataView({1: {'gender': 'male'}, 3: {'gender': 'male'}, 2: {'gender': 'female'}, 4: {'gender': 'female'}, 5: {'gender': 'male'}, 6: {'gender': 'male'}})"
            ]
          },
          "metadata": {},
          "execution_count": 20
        }
      ]
    },
    {
      "cell_type": "code",
      "source": [
        "g.edges(data=True)"
      ],
      "metadata": {
        "colab": {
          "base_uri": "https://localhost:8080/"
        },
        "id": "SFq3F6lh6S2d",
        "outputId": "9c842d38-6e8a-4d05-d6ac-2cf1eacac420"
      },
      "execution_count": 21,
      "outputs": [
        {
          "output_type": "execute_result",
          "data": {
            "text/plain": [
              "EdgeDataView([(1, 3, {'weigth': 3}), (3, 4, {'weigth': 2}), (2, 4, {'weigth': 1}), (2, 5, {'weigth': 4}), (2, 6, {'weigth': 3}), (4, 6, {'weigth': 3}), (5, 6, {'weight': 4})])"
            ]
          },
          "metadata": {},
          "execution_count": 21
        }
      ]
    },
    {
      "cell_type": "code",
      "source": [
        "pos = nx.spring_layout(g) # 각 노드의 positon\n",
        "nx.draw_networkx(g, pos)\n",
        "\n",
        "labels = nx.get_edge_attributes(g, 'weigth')\n",
        "nx.draw_networkx_edge_labels(g, pos, edge_labels=labels)\n",
        "\n",
        "plt.axis('off')\n",
        "plt.show()"
      ],
      "metadata": {
        "colab": {
          "base_uri": "https://localhost:8080/",
          "height": 406
        },
        "id": "P82mnBHO73Io",
        "outputId": "f56a0b7c-21e1-4ca0-8bb9-09deeda8204a"
      },
      "execution_count": 23,
      "outputs": [
        {
          "output_type": "display_data",
          "data": {
            "text/plain": [
              "<Figure size 640x480 with 1 Axes>"
            ],
            "image/png": "[encoded data removed]"
          },
          "metadata": {}
        }
      ]
    },
    {
      "cell_type": "code",
      "source": [
        "color_map = []\n",
        "for n, d in g.nodes(data=True):\n",
        "  if d['gender'] == 'female':\n",
        "    color_map.append('coral')\n",
        "  else:\n",
        "    color_map.append('green')\n",
        "\n",
        "pos = nx.spring_layout(g)\n",
        "nx.draw_networkx(g, pos, node_color=color_map)\n",
        "\n",
        "labels = nx.get_edge_attributes(g, 'weigth')\n",
        "plt.axis('off')\n",
        "plt.show()"
      ],
      "metadata": {
        "colab": {
          "base_uri": "https://localhost:8080/",
          "height": 406
        },
        "id": "xh42OCD38r57",
        "outputId": "fa31cbd1-9a43-415e-f4e2-cbea70d64e20"
      },
      "execution_count": 24,
      "outputs": [
        {
          "output_type": "display_data",
          "data": {
            "text/plain": [
              "<Figure size 640x480 with 1 Axes>"
            ],
            "image/png": "[encoded data removed]"
          },
          "metadata": {}
        }
      ]
    },
    {
      "cell_type": "code",
      "source": [
        "[n for n, d in g.nodes(data=True) if d['gender'] == 'female']"
      ],
      "metadata": {
        "colab": {
          "base_uri": "https://localhost:8080/"
        },
        "id": "FtoFed05-j6g",
        "outputId": "34c830a9-a4b5-446f-8bc1-1a30790d046b"
      },
      "execution_count": 28,
      "outputs": [
        {
          "output_type": "execute_result",
          "data": {
            "text/plain": [
              "[2, 4]"
            ]
          },
          "metadata": {},
          "execution_count": 28
        }
      ]
    },
    {
      "cell_type": "code",
      "source": [
        "g2 = nx.DiGraph()\n",
        "g2.add_edges_from([(1,2),(2,4),(4,2),(3,3),(1,3),(5,1)])"
      ],
      "metadata": {
        "id": "TpH4Rsra_j_T"
      },
      "execution_count": 33,
      "outputs": []
    },
    {
      "cell_type": "code",
      "source": [
        "nx.draw_networkx(g2)\n",
        "plt.axis('off')\n",
        "plt.show()"
      ],
      "metadata": {
        "colab": {
          "base_uri": "https://localhost:8080/",
          "height": 406
        },
        "id": "M2YMsKbL_21k",
        "outputId": "fe61beba-7a1d-4fd0-c409-bd536eed0726"
      },
      "execution_count": 34,
      "outputs": [
        {
          "output_type": "display_data",
          "data": {
            "text/plain": [
              "<Figure size 640x480 with 1 Axes>"
            ],
            "image/png": "[encoded data removed]"
          },
          "metadata": {}
        }
      ]
    },
    {
      "cell_type": "code",
      "source": [
        "nx.draw_networkx(g)\n",
        "plt.axis('off')\n",
        "plt.show()"
      ],
      "metadata": {
        "colab": {
          "base_uri": "https://localhost:8080/",
          "height": 406
        },
        "id": "ZzLcJpEYAD24",
        "outputId": "d9d6063d-ed32-4cbc-9e7f-159682b9a03a"
      },
      "execution_count": 35,
      "outputs": [
        {
          "output_type": "display_data",
          "data": {
            "text/plain": [
              "<Figure size 640x480 with 1 Axes>"
            ],
            "image/png": "[encoded data removed]"
          },
          "metadata": {}
        }
      ]
    },
    {
      "cell_type": "code",
      "source": [
        "list(g.neighbors(4))"
      ],
      "metadata": {
        "colab": {
          "base_uri": "https://localhost:8080/"
        },
        "id": "oL82GjpMAKCI",
        "outputId": "fa89a37f-fb7b-4aef-d97b-0cbe44248de0"
      },
      "execution_count": 36,
      "outputs": [
        {
          "output_type": "execute_result",
          "data": {
            "text/plain": [
              "[2, 3, 6]"
            ]
          },
          "metadata": {},
          "execution_count": 36
        }
      ]
    },
    {
      "cell_type": "code",
      "source": [
        "g.degree(4)"
      ],
      "metadata": {
        "colab": {
          "base_uri": "https://localhost:8080/"
        },
        "id": "Z2G5N2BeAScK",
        "outputId": "398d04dd-97fe-4b9c-9d24-cb7317e5a45a"
      },
      "execution_count": 37,
      "outputs": [
        {
          "output_type": "execute_result",
          "data": {
            "text/plain": [
              "3"
            ]
          },
          "metadata": {},
          "execution_count": 37
        }
      ]
    },
    {
      "cell_type": "code",
      "source": [
        "nx.shortest_path(g,3,5)"
      ],
      "metadata": {
        "colab": {
          "base_uri": "https://localhost:8080/"
        },
        "id": "WYF27gEhAWI0",
        "outputId": "c0eaa654-8e1c-49c5-885e-569f63a83837"
      },
      "execution_count": 39,
      "outputs": [
        {
          "output_type": "execute_result",
          "data": {
            "text/plain": [
              "[3, 4, 2, 5]"
            ]
          },
          "metadata": {},
          "execution_count": 39
        }
      ]
    },
    {
      "cell_type": "code",
      "source": [
        "nx.shortest_path(g)"
      ],
      "metadata": {
        "colab": {
          "base_uri": "https://localhost:8080/"
        },
        "id": "uHDy1UpDAcoy",
        "outputId": "62d8971d-9ed3-4a78-9148-1f3b88aa0c46"
      },
      "execution_count": 40,
      "outputs": [
        {
          "output_type": "execute_result",
          "data": {
            "text/plain": [
              "{1: {1: [1],\n",
              "  3: [1, 3],\n",
              "  4: [1, 3, 4],\n",
              "  2: [1, 3, 4, 2],\n",
              "  6: [1, 3, 4, 6],\n",
              "  5: [1, 3, 4, 2, 5]},\n",
              " 3: {3: [3],\n",
              "  1: [3, 1],\n",
              "  4: [3, 4],\n",
              "  2: [3, 4, 2],\n",
              "  6: [3, 4, 6],\n",
              "  5: [3, 4, 2, 5]},\n",
              " 2: {2: [2], 4: [2, 4], 5: [2, 5], 6: [2, 6], 3: [2, 4, 3], 1: [2, 4, 3, 1]},\n",
              " 4: {4: [4], 2: [4, 2], 3: [4, 3], 6: [4, 6], 5: [4, 2, 5], 1: [4, 3, 1]},\n",
              " 5: {5: [5],\n",
              "  2: [5, 2],\n",
              "  6: [5, 6],\n",
              "  4: [5, 2, 4],\n",
              "  3: [5, 2, 4, 3],\n",
              "  1: [5, 2, 4, 3, 1]},\n",
              " 6: {6: [6], 2: [6, 2], 4: [6, 4], 5: [6, 5], 3: [6, 4, 3], 1: [6, 4, 3, 1]}}"
            ]
          },
          "metadata": {},
          "execution_count": 40
        }
      ]
    },
    {
      "cell_type": "code",
      "source": [
        "nx.shortest_path(g,  weight='weight')"
      ],
      "metadata": {
        "colab": {
          "base_uri": "https://localhost:8080/"
        },
        "id": "82vvjpKLAgv_",
        "outputId": "e2ff0d63-0751-420b-804e-6375f5f4b6ae"
      },
      "execution_count": 41,
      "outputs": [
        {
          "output_type": "execute_result",
          "data": {
            "text/plain": [
              "{1: {1: [1],\n",
              "  3: [1, 3],\n",
              "  4: [1, 3, 4],\n",
              "  2: [1, 3, 4, 2],\n",
              "  6: [1, 3, 4, 6],\n",
              "  5: [1, 3, 4, 2, 5]},\n",
              " 3: {3: [3],\n",
              "  1: [3, 1],\n",
              "  4: [3, 4],\n",
              "  2: [3, 4, 2],\n",
              "  6: [3, 4, 6],\n",
              "  5: [3, 4, 2, 5]},\n",
              " 2: {2: [2], 4: [2, 4], 5: [2, 5], 6: [2, 6], 3: [2, 4, 3], 1: [2, 4, 3, 1]},\n",
              " 4: {4: [4], 2: [4, 2], 3: [4, 3], 6: [4, 6], 5: [4, 2, 5], 1: [4, 3, 1]},\n",
              " 5: {5: [5],\n",
              "  2: [5, 2],\n",
              "  6: [5, 2, 6],\n",
              "  4: [5, 2, 4],\n",
              "  3: [5, 2, 4, 3],\n",
              "  1: [5, 2, 4, 3, 1]},\n",
              " 6: {6: [6],\n",
              "  2: [6, 2],\n",
              "  4: [6, 4],\n",
              "  5: [6, 2, 5],\n",
              "  3: [6, 4, 3],\n",
              "  1: [6, 4, 3, 1]}}"
            ]
          },
          "metadata": {},
          "execution_count": 41
        }
      ]
    },
    {
      "cell_type": "code",
      "source": [
        "nx.degree_centrality(g)"
      ],
      "metadata": {
        "colab": {
          "base_uri": "https://localhost:8080/"
        },
        "id": "VkmYnJotAzYJ",
        "outputId": "d789bafa-78ef-4601-e638-8471b63a4cc5"
      },
      "execution_count": 42,
      "outputs": [
        {
          "output_type": "execute_result",
          "data": {
            "text/plain": [
              "{1: 0.2,\n",
              " 3: 0.4,\n",
              " 2: 0.6000000000000001,\n",
              " 4: 0.6000000000000001,\n",
              " 5: 0.4,\n",
              " 6: 0.6000000000000001}"
            ]
          },
          "metadata": {},
          "execution_count": 42
        }
      ]
    },
    {
      "cell_type": "code",
      "source": [
        "nx.betweenness_centrality(g)"
      ],
      "metadata": {
        "colab": {
          "base_uri": "https://localhost:8080/"
        },
        "id": "orwFOVeMA8rU",
        "outputId": "1d16f7d2-5eb1-43a6-bd69-d6c1ac786f0d"
      },
      "execution_count": 43,
      "outputs": [
        {
          "output_type": "execute_result",
          "data": {
            "text/plain": [
              "{1: 0.0,\n",
              " 3: 0.4,\n",
              " 2: 0.15000000000000002,\n",
              " 4: 0.6000000000000001,\n",
              " 5: 0.0,\n",
              " 6: 0.15000000000000002}"
            ]
          },
          "metadata": {},
          "execution_count": 43
        }
      ]
    },
    {
      "cell_type": "code",
      "source": [
        "nx.betweenness_centrality(g, weight='weight')"
      ],
      "metadata": {
        "colab": {
          "base_uri": "https://localhost:8080/"
        },
        "id": "eZtyQIKJBCP-",
        "outputId": "cfbdf1d7-2709-418b-9958-05efd61606b8"
      },
      "execution_count": 44,
      "outputs": [
        {
          "output_type": "execute_result",
          "data": {
            "text/plain": [
              "{1: 0.0, 3: 0.4, 2: 0.4, 4: 0.6000000000000001, 5: 0.0, 6: 0.0}"
            ]
          },
          "metadata": {},
          "execution_count": 44
        }
      ]
    },
    {
      "cell_type": "code",
      "source": [
        "nx.closeness_centrality(g)"
      ],
      "metadata": {
        "colab": {
          "base_uri": "https://localhost:8080/"
        },
        "id": "0ACBd11GBJgc",
        "outputId": "660f5f53-409e-4ba9-85ad-ad5e1f05d7d6"
      },
      "execution_count": 45,
      "outputs": [
        {
          "output_type": "execute_result",
          "data": {
            "text/plain": [
              "{1: 0.38461538461538464,\n",
              " 3: 0.5555555555555556,\n",
              " 2: 0.625,\n",
              " 4: 0.7142857142857143,\n",
              " 5: 0.45454545454545453,\n",
              " 6: 0.625}"
            ]
          },
          "metadata": {},
          "execution_count": 45
        }
      ]
    },
    {
      "cell_type": "code",
      "source": [
        "nx.eigenvector_centrality(g)"
      ],
      "metadata": {
        "colab": {
          "base_uri": "https://localhost:8080/"
        },
        "id": "SD2-EGOgBdeQ",
        "outputId": "247797f2-67b1-4ae0-9b49-ba48e9c80042"
      },
      "execution_count": 46,
      "outputs": [
        {
          "output_type": "execute_result",
          "data": {
            "text/plain": [
              "{1: 0.07902199743319213,\n",
              " 3: 0.20983546432528058,\n",
              " 2: 0.5299719499101774,\n",
              " 4: 0.47818048045123035,\n",
              " 5: 0.39915848301808887,\n",
              " 6: 0.5299719499101774}"
            ]
          },
          "metadata": {},
          "execution_count": 46
        }
      ]
    },
    {
      "cell_type": "code",
      "source": [
        "nx.eigenvector_centrality(g, weight='weight')"
      ],
      "metadata": {
        "colab": {
          "base_uri": "https://localhost:8080/"
        },
        "id": "uEd3ksbxBicW",
        "outputId": "2c7ea576-8a86-4fca-a56a-902099b31828"
      },
      "execution_count": 47,
      "outputs": [
        {
          "output_type": "execute_result",
          "data": {
            "text/plain": [
              "{1: 0.01065226562288839,\n",
              " 3: 0.049769362204895265,\n",
              " 2: 0.32524597796653965,\n",
              " 4: 0.22188147376475678,\n",
              " 5: 0.636078734514325,\n",
              " 6: 0.6616623374033324}"
            ]
          },
          "metadata": {},
          "execution_count": 47
        }
      ]
    }
  ]
}